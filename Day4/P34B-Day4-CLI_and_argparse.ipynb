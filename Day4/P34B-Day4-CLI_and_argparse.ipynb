{
  "cells": [
    {
      "cell_type": "markdown",
      "metadata": {
        "id": "Y1T60XbzoWEO"
      },
      "source": [
        "# Practical Python Programming for Biologists\n",
        "Author: Dr. Daniel Pass | www.CompassBioinformatics.com\n",
        "\n",
        "---"
      ]
    },
    {
      "cell_type": "markdown",
      "metadata": {
        "id": "vBv7em0QoUJe"
      },
      "source": [
        "# Your code, on the command line\n",
        "\n",
        "To make your Python code runnable from the command line there are a few main steps. Any code you have written or used this week should be equally comfortable on a local computer or a Jupyter notebook, and it just requires informing the code where it is.\n",
        "\n",
        "### Stages for creating an independent python program\n",
        "\n",
        "1. **Open a new file for your script**: Write your Python code in a file with a .py extension - it is not technically essential but good practice.\n",
        "\n",
        "2. **Define the shebang line**: The first line of your script must include a shebang line to specify that it is Python and which interpreter to be used. This ensures that the correct Python version is invoked when running the script.\n",
        "\n",
        "For example:\n",
        "` #!/usr/bin/python`\n",
        "   or\n",
        "`#!/usr/bin/env python3`\n",
        "\n",
        "This will vary depending on your computer. Typing ```which python``` on the command line will show you what to use.\n",
        "\n",
        "3. **Write your code!**: Now's the time to put all your code in there. Once you're finished, save and exit.\n",
        "\n",
        "3. **Add executable permissions**: If you are working on a Unix/Linux system (macs are a unix system), you need to make your Python script executable by assigning the appropriate permissions. Use the chmod command to set the executable permission:\n",
        "\n",
        "        chmod +x script.py\n",
        "\n",
        "4. **Run the script**: On the terminal move to the directory where your Python script is located, and run the script using ```./script.py```. If you have set up the shebang line correctly it shouldn't need you to specify python, but you can optionally do that if required: ```python script.py```\n",
        "\n",
        "        ./script.py"
      ]
    },
    {
      "cell_type": "markdown",
      "metadata": {
        "id": "A_SWnY9bp3Kc"
      },
      "source": [
        "### Exercise - Run your code\n",
        "\n",
        "Take the code below and turn it into a command line program. Follow the steps above to create and run your code **on your own computer**:\n",
        "1. Create a new textfile with the shebang line at the top\n",
        "2. Add the code that you want to run, save & exit\n",
        "3. Make the code excecutable\n",
        "4. Run the script!"
      ]
    },
    {
      "cell_type": "markdown",
      "metadata": {
        "id": "X6quM00r500P"
      },
      "source": [
        "Lets reuse the fish populations function from yesterday. Use this as your code:"
      ]
    },
    {
      "cell_type": "code",
      "execution_count": null,
      "metadata": {
        "id": "jqYJEHve500P"
      },
      "outputs": [],
      "source": [
        "#!/Your/Shebang/Line/Not/This/One/Obviously\n",
        "\n",
        "def calc_fish_number(radius, fish):\n",
        "  volume = (3.14 * radius ** 2) * 2\n",
        "\n",
        "  if fish == \"Guppy\":\n",
        "    total_fish = 17 * volume\n",
        "  elif fish == \"Tuna\":\n",
        "    total_fish = 3 * volume\n",
        "\n",
        "  return total_fish\n",
        "\n",
        "# Tests - Value = radius in metres & fish per m3\n",
        "print(\"Number of Guppies managable:\", calc_fish_number(0.5, \"Guppy\"))\n",
        "print(\"Number of Tuna managable:\", calc_fish_number(1.5, \"Tuna\"))"
      ]
    },
    {
      "cell_type": "markdown",
      "metadata": {
        "id": "h-furDw6500P"
      },
      "source": [
        "#### Working with graphical outputs\n",
        "When making graphical outputs you may not have the matplotlib library installed, or the environment setup to put the graph on screen. To instal matplotlib (if required) you simply use the commandline code ```pip install matplotlib``` like we have in the notebook.\n",
        "\n",
        "To change code designed for notebooks to the command line replace the ```plt.show()``` with ```plt.savefig(\"my_plot.png\")``` to save a figure as a file instead of displaying on the screen if your environment isn't set up for that (for example most servers don't have graphical output)\n"
      ]
    },
    {
      "cell_type": "markdown",
      "metadata": {
        "id": "4Iz2-O63r4XN"
      },
      "source": [
        "---\n",
        "\n",
        "# Argparse\n",
        "\n",
        "The argparse module in Python provides a powerful way to handle command-line arguments and options. It allows you to define the command-line interface for your script, specify the expected arguments and parameters, and automatically generate help messages.\n",
        "\n",
        "It may not be something you want to do (you could edit all the variables inside your code) but it is a method to make your code run like a stand-alone program and be easily variable.\n",
        "\n",
        "Here is a default template for the three main stages for creating parameter-controlled code (remember it cannot be ran in the Jupyter environment)."
      ]
    },
    {
      "cell_type": "code",
      "execution_count": null,
      "metadata": {
        "id": "6c8fKNBhsf8N"
      },
      "outputs": [],
      "source": [
        "import argparse, sys\n",
        "\n",
        "# Initialise the parser class\n",
        "parser = argparse.ArgumentParser(description='Description of your script')\n",
        "\n",
        "# Define some options/arguments/parameters\n",
        "parser.add_argument('-i', '--input', help='Path to input file')\n",
        "parser.add_argument('-o', '--output', help='Path to output file', default='my_output.txt')\n",
        "\n",
        "# This line checks if the user gave no arguments, and if so then print the help\n",
        "parser.parse_args(args=None if sys.argv[1:] else ['--help'])\n",
        "\n",
        "# Collect the inputted arguments into a dictionary\n",
        "args = parser.parse_args()\n",
        "\n",
        "print(args)"
      ]
    },
    {
      "cell_type": "markdown",
      "metadata": {
        "id": "MrcffHSu500Q"
      },
      "source": [
        "#### Exercise: Make a command line program\n",
        "\n",
        "Lets combine the two options. We will put the argparse code above the fish code in one script and try to run it using different parameters. The only change we are making here is replacing the values in the code, with the argparse values from the command line.\n",
        "\n",
        "1. Copy this code into a new script and run it with the -h parameter. It hasn't been defined, but it is a built-in option with argparse.\n",
        "2. Run the code a few times with different numbers and fish to test it.\n",
        "\n",
        "Extension: What happens if you type a fish not in the code? Add a more usefull output than the error e.g. \"That fish is not in the database\"\n"
      ]
    },
    {
      "cell_type": "code",
      "execution_count": null,
      "metadata": {
        "id": "2UD02QDz500Q"
      },
      "outputs": [],
      "source": [
        "import argparse, sys\n",
        "\n",
        "###############################\n",
        "#### Reading parameters in ####\n",
        "###############################\n",
        "\n",
        "# Initialise the parser class\n",
        "parser = argparse.ArgumentParser(description='Test how many fish you can hold in your tank')\n",
        "\n",
        "# Define some options/arguments/parameters\n",
        "parser.add_argument('-f', '--fish', help='What fish to test?')\n",
        "parser.add_argument('-r', '--radius', type=float, help='Radius of the tank', default='1')\n",
        "\n",
        "# Collect the inputted arguments into a dictionary or check if empty and give help\n",
        "parser.parse_args(args=None if sys.argv[1:] else ['--help'])\n",
        "args = parser.parse_args()\n",
        "\n",
        "##############################\n",
        "##### The actual script ######\n",
        "##############################\n",
        "\n",
        "def calc_fish_number(radius, fish):\n",
        "  volume = (3.14 * radius ** 2) * 2\n",
        "\n",
        "  if fish == \"Guppy\":\n",
        "    total_fish = 17 * volume\n",
        "  elif fish == \"Tuna\":\n",
        "    total_fish = 3 * volume\n",
        "\n",
        "  return total_fish\n",
        "\n",
        "# Tests - Value = radius in metres & fish per m3\n",
        "print(\"Number of\", args.fish, \"managable:\", calc_fish_number(args.radius, args.fish))"
      ]
    },
    {
      "cell_type": "markdown",
      "metadata": {
        "id": "C7cDdeLJufCt"
      },
      "source": [
        "## Extension Exercise - Building the parameters\n",
        "\n",
        "Lets make our own length and GC% calculator (You can write the code yourself, or use the one below)\n",
        "\n",
        "1. In a new script combine the code below with the first argparse code (including input/output) above and test it with the ```co1_sequences.fasta``` file\n",
        "2. Add an additional argument for \"minimum length\" and set the default to 900.\n",
        "3. Modify the script to only print for sequences above the default 900.\n",
        "4. Test your your new parameter to output only over 1000\n",
        "\n",
        "Note that this uses the biopython module. You may need to install this with pip install biopython first."
      ]
    },
    {
      "cell_type": "code",
      "execution_count": null,
      "metadata": {
        "id": "IHiepx_Sx5cV"
      },
      "outputs": [],
      "source": [
        "from Bio import SeqIO, Seq\n",
        "\n",
        "for seq_record in SeqIO.parse(args.input, 'fasta'):\n",
        "    seq_len = len(seq_record)\n",
        "    GC = (seq_record.seq.count(\"G\") + seq_record.seq.count(\"C\")) / seq_len * 100\n",
        "    print(\"Sequence\", seq_record.id, \"has length\", seq_len, \"and GC of\", str(round(GC, 2)) + \"%\")\n"
      ]
    },
    {
      "cell_type": "markdown",
      "metadata": {
        "id": "AOfj7IbCa95d"
      },
      "source": [
        "---\n",
        "\n",
        "## Subprocess - Including other programs in your python code\n",
        "\n",
        "The ability to interact with external command-line tools and programs is crucial for data analysis and processing with a range of bioinformatic packages out there, and incorporating them into your workflows. The library ```subprocess``` that allows you to spawn new processes, connect to their input/output/error pipes, and obtain their returns.\n",
        "\n",
        "The objective here is that sometimes there are programs that only exist in other languages that you want to use, or alternatively they are faster in other languages. Python makes it easy (ish) to combine them.\n",
        "\n",
        "! ***NOTE: These examples will not work unless you have the relevant files available or programs installed. They are just for demonstration*** !\n",
        "\n",
        "Firstly lets just look at running a basic command to make a directory, and then check in your local files"
      ]
    },
    {
      "cell_type": "code",
      "execution_count": null,
      "metadata": {
        "id": "cK8HSzLZb1dF"
      },
      "outputs": [],
      "source": [
        "import subprocess\n",
        "\n",
        "command = \"mkdir test_directory\"\n",
        "subprocess.run(command, shell=True)"
      ]
    },
    {
      "cell_type": "markdown",
      "metadata": {
        "id": "WH-RU9umcC6l"
      },
      "source": [
        "It can also be important to capture the output of the other command you're running. We also include the ```text=True``` parameter so that the output is in the same format, otherwise it will be interpretted differently (Try removing that parameter to check)"
      ]
    },
    {
      "cell_type": "code",
      "execution_count": null,
      "metadata": {
        "id": "-e3idGRsa--F"
      },
      "outputs": [],
      "source": [
        "import subprocess\n",
        "\n",
        "command = \"ls -l *\"\n",
        "process = subprocess.run(command, shell=True, capture_output=True, text=True)\n",
        "print(process.stdout)"
      ]
    },
    {
      "cell_type": "markdown",
      "metadata": {
        "id": "RYlW4y7Ucp5f"
      },
      "source": [
        "We can combine multiple arguments togeher in a list. Here they will just be added together in order"
      ]
    },
    {
      "cell_type": "code",
      "execution_count": null,
      "metadata": {
        "id": "GhD7T90dbB2N"
      },
      "outputs": [],
      "source": [
        "command = [\"grep\", \"^KW\", \"/content/am181037.embl\"]\n",
        "process = subprocess.run(command, capture_output=True, text=True)\n",
        "print(process.stdout)"
      ]
    },
    {
      "cell_type": "markdown",
      "metadata": {
        "id": "IycedHbRPrJS"
      },
      "source": [
        "The commands above all return just an output to the screen, however most programs in this context may be producing specific output files. Here is a more complex real-world command, where sequences is a variable that we created in our code\n",
        "\n",
        "- Note that this will not run unless you have blastp installed"
      ]
    },
    {
      "cell_type": "code",
      "execution_count": null,
      "metadata": {
        "id": "XnLAKr4EbC-O"
      },
      "outputs": [],
      "source": [
        "command = ['blastp','-query',sequences,'-out','blout.txt','-db','nr.00']\n",
        "process = subprocess.run(command, shell=True, capture_output=True, text=True)\n",
        "print(process.stdout)"
      ]
    },
    {
      "cell_type": "markdown",
      "metadata": {
        "id": "-AaU_zhwUBC5"
      },
      "source": [
        "Running an external program within your script can be messy and cause errors. It is good practice to have your code test wether something is working, rather than just assuming it does.\n",
        "\n",
        "The ```try``` and ```except``` code is like an if/else block but specifically for seeing if errors occur, and is exactly what we want here."
      ]
    },
    {
      "cell_type": "code",
      "execution_count": null,
      "metadata": {
        "id": "8ji1Sy0YUOvc"
      },
      "outputs": [],
      "source": [
        "# Example 4: Handling errors and exceptions\n",
        "command = \"invalid_command\"\n",
        "try:\n",
        "    process = subprocess.run(command, capture_output=True, text=True)\n",
        "    process.check_returncode()  # Check if the process exited with a non-zero status\n",
        "except subprocess.CalledProcessError as e:\n",
        "    print(\"An error occurred:\", e.stderr)"
      ]
    },
    {
      "cell_type": "markdown",
      "metadata": {
        "id": "go5djJOHYnux"
      },
      "source": [
        "Note: You may see ```subprocess.Popen()``` in some code. Overall, ```subprocess.Popen()``` provides more flexibility and control over the spawned processes, while ```subprocess.run()``` offers a simpler and more convenient way to execute commands and retrieve their output and where we will finish this session!"
      ]
    }
  ],
  "metadata": {
    "colab": {
      "provenance": []
    },
    "kernelspec": {
      "display_name": "Python 3",
      "name": "python3"
    },
    "language_info": {
      "codemirror_mode": {
        "name": "ipython",
        "version": 3
      },
      "file_extension": ".py",
      "mimetype": "text/x-python",
      "name": "python",
      "nbconvert_exporter": "python",
      "pygments_lexer": "ipython3",
      "version": "3.11.5"
    }
  },
  "nbformat": 4,
  "nbformat_minor": 0
}