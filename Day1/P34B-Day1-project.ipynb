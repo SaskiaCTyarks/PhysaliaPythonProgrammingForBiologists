{
  "cells": [
    {
      "cell_type": "markdown",
      "metadata": {
        "id": "ELLkNgCz2-dB"
      },
      "source": [
        "# Practical Python Programming for Biologists\n",
        "Author, Dr. Daniel Pass | www.CompassBioinformatics.com\n",
        "\n",
        "---"
      ]
    },
    {
      "cell_type": "markdown",
      "metadata": {
        "id": "UbYwA7riL9Lr"
      },
      "source": [
        "#  Day 1 Project Challenge\n",
        "\n",
        "We have been investigating the upstream sequence region of P2X1 and have data on Transcription Factor Binding Sites. I want you to write code to analyse the data collected and automatically output some interpretation in easy to read format (ready for a non-computer prof. to understand!).\n",
        "\n",
        "You have been given the following data,\n",
        "- A region of DNA that we're investigating\n",
        "- A list of binding sites with their sequence and position of their first base\n",
        "- A 2D list of binding sequence motifs and their frequency\n",
        "\n",
        "There are infinite different ways to answer these questions and no true correct answer. Think about the approaches you might try first in normal languange, and then think how you would achive it with python. Take your time, this is a big collection of chalenges that should take 30+ minutes!\n",
        "\n",
        "#### Objectives\n",
        "1. Calculate the length of the region being studied and total AT% (AT regions are often associated with binding sites)\n",
        "2. Divide the region into three equal sections and report if AT% is different between them\n",
        "3. Print the DNA sequence of the given experimental binding motifs above the actual binding section from the long sequence region so that it looks like i.e.:\n",
        "\n",
        "    ```\n",
        "    TFBS1\n",
        "    ACTGA\n",
        "    ACAGA\n",
        "    ```\n",
        "\n",
        "    - Note: Use the position number to output the sequence of the region +/- 5bp: If the position is 100 and the motif is 5 bases long output bases: 95-[motif length=5]-110\n",
        "    - Extension: Include the surrounding section too, aiming for a format like this:\n",
        "    \n",
        "          TFBS1\n",
        "          -----XXXXX-----\n",
        "          ACTGAXXXXXATCGA\n",
        "\n",
        "Extensions:\n",
        "- Make a bar chart showing frequency of in silico predictions - You can copy the barchart code from the introduction session to start\n",
        "  - Should all in the list be represented? Maybe remove one?\n",
        "\n",
        "---\n",
        "\n",
        "Tips,\n",
        "- Work on getting the outputs first. Make it look attractive second!\n",
        "- Using regular `print()` statements can help understand what's happening\n",
        "- Don't forget about the zip and unzip functions\n",
        "- This may be a useful graph parameter, ```plt.xticks(rotation=90)```!\n",
        "- Some commands are repeatative. We will solve this with loops in the next sessions but for now it is good to practice!\n"
      ]
    },
    {
      "cell_type": "markdown",
      "metadata": {
        "id": "cwMhl6maOQoz"
      },
      "source": [
        "### Example of an upstream promotor region, with highlighted motifs (not your gene!)"
      ]
    },
    {
      "cell_type": "markdown",
      "metadata": {
        "id": "LQ-TngLZfOpU"
      },
      "source": [
        "![promotor.png](attachment:promotor.png)"
      ]
    },
    {
      "cell_type": "markdown",
      "metadata": {
        "id": "lp1qxWYfXoF0"
      },
      "source": [
        "Upstream DNA region of interest"
      ]
    },
    {
      "cell_type": "code",
      "execution_count": 8,
      "metadata": {
        "id": "qGc5pWZFL50i",
        "outputId": "63591f06-49f9-4190-ab51-60ff62d66696",
        "colab": {
          "base_uri": "https://localhost:8080/",
          "height": 106
        }
      },
      "outputs": [
        {
          "output_type": "error",
          "ename": "SyntaxError",
          "evalue": "invalid syntax (ipython-input-1851175614.py, line 1)",
          "traceback": [
            "\u001b[0;36m  File \u001b[0;32m\"/tmp/ipython-input-1851175614.py\"\u001b[0;36m, line \u001b[0;32m1\u001b[0m\n\u001b[0;31m    ref|NC_000008.11|,11670718-11670917 Homo sapiens chromosome 8, GRCh38.p14 Primary Assembly\u001b[0m\n\u001b[0m                 ^\u001b[0m\n\u001b[0;31mSyntaxError\u001b[0m\u001b[0;31m:\u001b[0m invalid syntax\n"
          ]
        }
      ],
      "source": [
        "ref|NC_000008.11|,11670718-11670917 Homo sapiens chromosome 8, GRCh38.p14 Primary Assembly\n",
        "AATTATTTACTTAGCTAGGAGTGTGAGCTTGAGGGCGGGTCTAATGAGTAGGTCAGAGTCAG\n",
        "CCTGGCACAGCAAGAATGAAATAATTTTTTTTTTGAGATAAGGTCTTGCTCTGCCACCCAGG\n",
        "CAATGGTGTGATCATAGGTCACTGTAACCTCAAACTCTTGGGCTCAAGTGATCCTCCTGCAT\n",
        "AGTTGGTATTACTTAGCTAGGAGTGTGAGCTTGAGGGCGGGTCTAATGAGTAGGTCAGAGTC\n",
        "CCTGGCACAGCAAGAATGAAATAATTTTTTTTGAGATAAGGTCTTGCTCTGCCACCCAGGAT\n",
        "GGAGTGCAATGGTGTGATCATAGGTCACTGTAACCTCAAACTCTTGGGCTCAAGTGATCCTC\n",
        "CTGCGTTGGTATTACTTAGCTAGGAGTGTGAGCTTGAGGGCGGGTTTTTTTTGAGATAAGGT\n",
        "CTTGCTCTGCCACCCAGGATGGAGTGCAATGGTGTGATCATAGGTCACTGTAACCTCAAACT\n",
        "CTTGGGCTCAAGTGATCCTCCTGC\n"
      ]
    },
    {
      "cell_type": "markdown",
      "metadata": {
        "id": "WfxxwxAhXrnS"
      },
      "source": [
        "## Input Data"
      ]
    },
    {
      "cell_type": "code",
      "execution_count": 9,
      "metadata": {
        "id": "MtKehWIXQpzL"
      },
      "outputs": [],
      "source": [
        "# Upstrem region of interest (as a string)\n",
        "region = \"AATTATTTACTTAGCTAGGAGTGTGAGCTTGAGGGCGGGTCTAATGAGTAGGTCAGAGTCAGCCTGGCACAGCAAGAATGAAATAATTTTTTTTTTGAGATAAGGTCTTGCTCTGCCACCCAGGCAATGGTGTGATCATAGGTCACTGTAACCTCAAACTCTTGGGCTCAAGTGATCCTCCTGCATAGTTGGTATTACTTAGCTAGGAGTGTGAGCTTGAGGGCGGGTCTAATGAGTAGGTCAGAGTCCCTGGCACAGCAAGAATGAAATAATTTTTTTTGAGATAAGGTCTTGCTCTGCCACCCAGGATGGAGTGCAATGGTGTGATCATAGGTCACTGTAACCTCAAACTCTTGGGCTCAAGTGATCCTCCTGCGTTGGTATTACTTAGCTAGGAGTGTGAGCCGGAGGGCGGGTTTTTTTTGAGACAAGGTCTTGCCCCGCCACCCAGGAGGGAGTGCGCTGGTGTGATCATAGGTCACTGTAACCTCAAACTCTTGGGCTCGCGTGATCCCCCGGC\"\n",
        "\n",
        "# The list of binding motifs confirmed by your CHIPSeq experiment and first base binding in region\n",
        "TFBS_experimental = [\"AGGTC\", \"TGATT\", \"GGTCT\"]\n",
        "confirmed_binding_sites = [139, 468, 225]\n",
        "\n",
        "# Sequence motifs found in the region, and frequency\n",
        "in_silico_sites = [('AATGA', 4), ('CATAG', 4), ('GGAGT', 5), ('GAGTG', 5), ('GGTCT', 5), ('TAGGT', 5), ('GGTCA', 5), ('GTGTG', 6), ('TGTGA', 6), ('TTGAG', 6), ('TCTTG', 6), ('GTGAT', 6), ('TGATC', 6), ('CTCAA', 6), ('AGGTC', 8), ('TTTTT', 14)]\n"
      ]
    },
    {
      "cell_type": "code",
      "execution_count": 13,
      "metadata": {
        "id": "Z9w33vx7Ptk7",
        "outputId": "f4b73353-2b7d-4ba6-de89-73b87b12666b",
        "colab": {
          "base_uri": "https://localhost:8080/"
        }
      },
      "outputs": [
        {
          "output_type": "stream",
          "name": "stdout",
          "text": [
            "51.153846153846146\n",
            "The total AT percentage is 51.15%\n",
            "173.33333333333334\n"
          ]
        }
      ],
      "source": [
        "# Your code\n",
        "t_len = len(region)\n",
        "AT_pct = (region.count(\"A\") + region.count(\"T\")) / t_len * 100\n",
        "print(AT_pct)\n",
        "print(\"The total AT percentage is\", str(round(AT_pct, 2)) + \"%\")\n",
        "\n",
        "one_third = t_len / 3\n",
        "print(one_third)\n",
        "\n",
        "region1 = region[:173]\n",
        "\n"
      ]
    }
  ],
  "metadata": {
    "colab": {
      "provenance": []
    },
    "kernelspec": {
      "display_name": "Python 3",
      "name": "python3"
    },
    "language_info": {
      "codemirror_mode": {
        "name": "ipython",
        "version": 3
      },
      "file_extension": ".py",
      "mimetype": "text/x-python",
      "name": "python",
      "nbconvert_exporter": "python",
      "pygments_lexer": "ipython3",
      "version": "3.11.5"
    }
  },
  "nbformat": 4,
  "nbformat_minor": 0
}