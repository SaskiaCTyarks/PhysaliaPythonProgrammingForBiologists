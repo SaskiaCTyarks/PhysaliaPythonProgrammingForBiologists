{
  "cells": [
    {
      "cell_type": "markdown",
      "metadata": {
        "id": "L0spceqkLKxF"
      },
      "source": [
        "# Practical Python Programming for Biologists\n",
        "Author: Dr. Daniel Pass | www.CompassBioinformatics.com\n",
        "\n",
        "---"
      ]
    },
    {
      "cell_type": "markdown",
      "metadata": {
        "id": "BXTjkUmBkXWm"
      },
      "source": [
        "# Functions"
      ]
    },
    {
      "cell_type": "markdown",
      "metadata": {
        "id": "-6IE-hpdv_De"
      },
      "source": [
        "Functions are essential for keeping our code in reusable blocks, improving readability, and generally reducing the amount of typing and repitition. If you decided to change a peice of code, it's much more work if you have it in several different places, rather than just one reusable chunk, and also makes it less likely to have unexpected consequences when different code should be the same.\n",
        "\n",
        "Functions allow us to keep a set of instructions under a single name and call it whenever needed.\n",
        "\n",
        "Basically, anything we've already learned how to do can be put in a function. It's like whole mini-programs within a program.\n",
        "\n",
        "A function is created with ```def``` and looks like built-in functions that we've already seen such as ```len()```. We also define our parameters within the parantheses ```()``` which we can then use in our function as a variable."
      ]
    },
    {
      "cell_type": "markdown",
      "metadata": {
        "id": "qLyffgurmAUC"
      },
      "source": [
        "## A basic function"
      ]
    },
    {
      "cell_type": "code",
      "execution_count": null,
      "metadata": {
        "id": "NzV9UQl9v8Kv"
      },
      "outputs": [],
      "source": [
        "def function_to_check_if_pass(measurement): #starting with def -- defining a function\n",
        "    if measurement > 75:\n",
        "      print(\"Over Threshold!\")"
      ]
    },
    {
      "cell_type": "markdown",
      "metadata": {
        "id": "XvuLqMLixGL4"
      },
      "source": [
        "Run that code and see what happens. Not very exciting is it? That's because you've only ***defined*** the function, but you haven't called it.\n",
        "\n",
        "Now lets acutally use the function:"
      ]
    },
    {
      "cell_type": "code",
      "execution_count": null,
      "metadata": {
        "colab": {
          "base_uri": "https://localhost:8080/"
        },
        "id": "acEBxNAVxUhA",
        "outputId": "7e5e6a60-a1fa-48fc-fcfa-52726c924cf7"
      },
      "outputs": [
        {
          "name": "stdout",
          "output_type": "stream",
          "text": [
            "Over Threshold!\n",
            "Over Threshold!\n"
          ]
        }
      ],
      "source": [
        "function_to_check_if_pass(80)\n",
        "function_to_check_if_pass(95)\n",
        "function_to_check_if_pass(60)"
      ]
    },
    {
      "cell_type": "markdown",
      "metadata": {
        "id": "LoKu03pYxez3"
      },
      "source": [
        "As you can see, the value we put in the ```()``` becomes the variable within the functon. But we also only get two responses back. If there is no output from the function then nothing happens. Lets change that"
      ]
    },
    {
      "cell_type": "code",
      "execution_count": null,
      "metadata": {
        "id": "kYN6iz2JyLVf"
      },
      "outputs": [],
      "source": [
        "def better_function_to_check_if_pass(measurement):\n",
        "    if measurement > 75:\n",
        "      print(\"Over Threshold!\")\n",
        "    else:\n",
        "      print(\"Below Threshold\")"
      ]
    },
    {
      "cell_type": "code",
      "execution_count": null,
      "metadata": {
        "colab": {
          "base_uri": "https://localhost:8080/"
        },
        "id": "T3qhByFPymOw",
        "outputId": "270104e0-1839-432d-9ff1-d190fca7c104"
      },
      "outputs": [
        {
          "name": "stdout",
          "output_type": "stream",
          "text": [
            "Over Threshold!\n",
            "Over Threshold!\n",
            "Below Threshold\n"
          ]
        }
      ],
      "source": [
        "better_function_to_check_if_pass(80)\n",
        "better_function_to_check_if_pass(95)\n",
        "better_function_to_check_if_pass(60)"
      ]
    },
    {
      "cell_type": "markdown",
      "metadata": {
        "id": "R56GnxUKmSkD"
      },
      "source": [
        "## Exercise - Function Bugfix\n",
        "\n",
        "I think we're all bored of writing code to calculate GC%! Here's a badly made function to do our favourite task of calculating the GC content of a DNA sequence. Try to make it work to output the result for both of the given sequences, and we'll never need to write it again, as we can always reuse this function!\n",
        "\n",
        "First write the code to call the function, and then see where the errors point you"
      ]
    },
    {
      "cell_type": "code",
      "execution_count": null,
      "metadata": {
        "id": "yBn5jVM3mdsd",
        "outputId": "16018980-f7b8-441c-894b-dd4f99a40ce9"
      },
      "outputs": [
        {
          "name": "stdout",
          "output_type": "stream",
          "text": [
            "42.86\n",
            "28.57\n"
          ]
        }
      ],
      "source": [
        "def gc_content(sequence):\n",
        "    gc_count = (sequence.count(\"G\"), sequence.count(\"C\"))\n",
        "    gc_percentage = (gc_count / len(sequence)) * 100\n",
        "    print(round(gc_percentage, 2))\n",
        "\n",
        "# Test the function on these sequences\n",
        "gene1 = \"ATCGGTA\"\n",
        "gene2 = \"GATTACA\"\n"
      ]
    },
    {
      "cell_type": "markdown",
      "metadata": {
        "id": "PtTOsDCfl94z"
      },
      "source": [
        "---\n",
        "\n",
        "## Better functions\n",
        "\n",
        "So we know how to make a function, and how to call it. But so far we have used it as a data dead-end. Information goes in to the function, but nothing comes out, which means it's hard to make useful pipelines. Here is where we can use the ```return``` function.\n",
        "\n",
        "Using ```return``` you tell the function what data to give back to the main script. Here lets do some calculations with fish breeding tanks."
      ]
    },
    {
      "cell_type": "code",
      "execution_count": null,
      "metadata": {
        "id": "8kcOhz_DoUqb"
      },
      "outputs": [],
      "source": [
        "# Function to calculate volume from a radius\n",
        "def calc_tank_volume(radius):\n",
        "  volume = (3.14 * radius ** 2) * 2\n",
        "  return volume"
      ]
    },
    {
      "cell_type": "code",
      "execution_count": null,
      "metadata": {
        "id": "8u60k6a90Qsm",
        "outputId": "c64a4d0e-ae48-44f1-c4fb-0ef2cbe2f148"
      },
      "outputs": [
        {
          "name": "stdout",
          "output_type": "stream",
          "text": [
            "Small Tank with radius 0.5 is 1.57 metres cubed\n",
            "Large Tank with radius 1.5 is 14.13 metres cubed\n"
          ]
        }
      ],
      "source": [
        "# Radius of tanks in metres\n",
        "radius = 0.5\n",
        "small_tank_volume = calc_tank_volume(radius)\n",
        "print(\"Small Tank with radius\", radius, \"is\", small_tank_volume, \"metres cubed\")\n",
        "\n",
        "# large tank\n",
        "radius = 1.5\n",
        "large_tank_volume = calc_tank_volume(radius)\n",
        "print(\"Large Tank with radius\", radius, \"is\", large_tank_volume, \"metres cubed\")"
      ]
    },
    {
      "cell_type": "markdown",
      "metadata": {
        "id": "EqpLDhKAr_KE"
      },
      "source": [
        "Here we've called the function twice but returned a set value. Note here that we don't NEED to put the returned output into a variable, we could also just use the function within a print command:"
      ]
    },
    {
      "cell_type": "code",
      "execution_count": null,
      "metadata": {
        "id": "-0YPL4vB0Qsm",
        "outputId": "8b836f40-e33c-4aa6-c5c3-2f05bed822d7"
      },
      "outputs": [
        {
          "name": "stdout",
          "output_type": "stream",
          "text": [
            "307.72\n",
            "76.93\n"
          ]
        }
      ],
      "source": [
        "# Same as above!\n",
        "print(calc_tank_volume(7))\n",
        "print(calc_tank_volume(3.5))"
      ]
    },
    {
      "cell_type": "markdown",
      "metadata": {
        "id": "ResXptLw0Qsm"
      },
      "source": [
        "**Exercise:** Create a new function that returns the supplier based on the tank volume\n",
        "1. Make the function that accepts a number and returns the supplier\n",
        "2. Test the function with each of the list of volumes\n",
        "3. **Extension:** What would happen if the volume was too large for any option? Make sure you have an output for that!\n",
        "2. **Extension:** Combine the your function and the `calc_tank_volume()` function above so that you can get the output by providing the radius, not the volume\n",
        "\n",
        "**Suppliers:**\n",
        "\n",
        "| Size | Supplier |\n",
        "|------|----------|\n",
        "| 0-15m | Amazon   |\n",
        "| 15-45m | Pets4U   |\n",
        "| 45-900m| Seaworld |"
      ]
    },
    {
      "cell_type": "code",
      "execution_count": null,
      "metadata": {
        "id": "n1RLY-lw0Qsm"
      },
      "outputs": [],
      "source": [
        "# Define your function\n"
      ]
    },
    {
      "cell_type": "code",
      "execution_count": null,
      "metadata": {
        "id": "oz84W3Xq0Qsn"
      },
      "outputs": [],
      "source": [
        "# Run your tests\n",
        "# volumes of tanks to buy [1.2, 17, 3.5, 26]\n",
        "# radii of tanks to buy [0.2, 2.4, 19, 6]\n"
      ]
    },
    {
      "cell_type": "markdown",
      "metadata": {
        "id": "G8iZPce-0Qsn"
      },
      "source": [
        "---\n",
        "Hopefully you can see how our defined functions work exactly like built-in functions such as ```sum()```, ```max()```, ```len()``` etc.\n",
        "\n",
        "Lets make it more complex as we can pass multiple parameters to functions. How many fish can we fit in our tanks? Note how we can pass multiple variables to the function, but can choose what to return at the end."
      ]
    },
    {
      "cell_type": "code",
      "execution_count": null,
      "metadata": {
        "colab": {
          "base_uri": "https://localhost:8080/"
        },
        "id": "SbNivm9nsNzk",
        "outputId": "51341319-aee4-49e5-9a37-ca276e66d435"
      },
      "outputs": [
        {
          "name": "stdout",
          "output_type": "stream",
          "text": [
            "Number of Guppies managable: 26.69\n",
            "Number of Tuna managable: 42.39\n"
          ]
        }
      ],
      "source": [
        "def calc_fish_number(radius, fish):\n",
        "  volume = (3.14 * radius ** 2) * 2\n",
        "\n",
        "  if fish == \"Guppy\":\n",
        "    total_fish = 17 * volume\n",
        "  elif fish == \"Tuna\":\n",
        "    total_fish = 3 * volume\n",
        "\n",
        "  return total_fish\n",
        "\n",
        "# Tests - Value = radius in metres & fish per m3\n",
        "print(\"Number of Guppies managable:\", calc_fish_number(0.5, \"Guppy\"))\n",
        "print(\"Number of Tuna managable:\", calc_fish_number(1.5, \"Tuna\"))"
      ]
    },
    {
      "cell_type": "markdown",
      "metadata": {
        "id": "fburkysJmDlS"
      },
      "source": [
        "Ah yes, we all know that small guppies can live at 17 per m3 but Tuna only 2 per m3 (of course!)\n",
        "\n",
        "**Default function values**\n",
        "\n",
        "We can also give and return multiple variables, and even set default values. Note the three return variables and the three variables being assigned by running the function. Default variables are assigned in the function call with ```=```, and will be used if no variable is passed to it (see the second function call).\n",
        "\n",
        "Try changing the variables and function calls to test the function parameters. I have split it into three code blocks to demonstrate the different parts of the code, but in reality it all follows together in one script"
      ]
    },
    {
      "cell_type": "code",
      "execution_count": null,
      "metadata": {
        "id": "AgM4N49Mu8Vd"
      },
      "outputs": [],
      "source": [
        "# Create function\n",
        "                                         ## Note the default assigned values\n",
        "def calculate_fish_population(fish_count, tank_length=1, tank_width=1, tank_height=1):\n",
        "    # Do some calculations\n",
        "    tank_volume = tank_length * tank_width * tank_height\n",
        "    water_volume = tank_volume * 0.8  # Consider 80% usable water volume\n",
        "    fish_density = fish_count / water_volume\n",
        "    max_fish_capacity = water_volume * 200\n",
        "\n",
        "    if fish_density <= 0.5:\n",
        "        population_level = 'Low'\n",
        "    elif fish_density <= 1.0:\n",
        "        population_level = 'Medium'\n",
        "    else:\n",
        "        population_level = 'High'\n",
        "\n",
        "    # Returning three outputs\n",
        "    return fish_density, population_level, max_fish_capacity"
      ]
    },
    {
      "cell_type": "code",
      "execution_count": null,
      "metadata": {
        "id": "JdZ897t40Ajl",
        "outputId": "af4b51d5-2b78-48fb-936f-d794b9ebfce5"
      },
      "outputs": [
        {
          "name": "stdout",
          "output_type": "stream",
          "text": [
            "(213.06818181818176, 'High', 140.80000000000004)\n",
            "(187.5, 'High', 160.0)\n"
          ]
        }
      ],
      "source": [
        "## Our test data\n",
        "fish_count = 150\n",
        "tank_length = 2.2\n",
        "tank_width = 0.8\n",
        "tank_height = 0.5\n",
        "\n",
        "# Print the return values\n",
        "print(calculate_fish_population(fish_count, tank_length, tank_width, tank_height))\n",
        "\n",
        "# Print the Standard tank size (using default values)\n",
        "print(calculate_fish_population(fish_count))\n"
      ]
    },
    {
      "cell_type": "markdown",
      "metadata": {
        "id": "9-Km0qmI0Qsn"
      },
      "source": [
        "Just printing the output of the function to the screen isn't very useful!\n",
        "\n",
        "We could assign those values to a new list, or assign them separately to new variable names using the tuple labelling format:"
      ]
    },
    {
      "cell_type": "code",
      "execution_count": null,
      "metadata": {
        "colab": {
          "base_uri": "https://localhost:8080/"
        },
        "id": "1Eg57CWmz3qd",
        "outputId": "62abf494-165e-42e3-e1a2-bcdfcb78c57a"
      },
      "outputs": [
        {
          "name": "stdout",
          "output_type": "stream",
          "text": [
            "Fish Density: 213.07 fish per unit volume\n",
            "Population Level: High\n",
            "Max Fish Capacity: 140.80000000000004 units\n",
            "Too many fish for this tank\n"
          ]
        }
      ],
      "source": [
        "# Custom tank size\n",
        "density, population, capacity = calculate_fish_population(fish_count, tank_length, tank_width, tank_height)\n",
        "\n",
        "# Output data\n",
        "print(\"Fish Density:\", round(density, 2), \"fish per unit volume\")\n",
        "print(\"Population Level:\", population)\n",
        "print(\"Max Fish Capacity:\", capacity, \"units\")\n",
        "\n",
        "if fish_count > capacity:\n",
        "  print(\"Too many fish for this tank\")\n",
        "else:\n",
        "  print(\"Tank is appropriate size\")"
      ]
    },
    {
      "cell_type": "markdown",
      "metadata": {
        "id": "JtV4fyew2OiB"
      },
      "source": [
        "---\n",
        "\n",
        "### Better String Formatting for cleaner code\n",
        "\n",
        "We are at a point now where we are creating and outputting multiple variables at once and it can become tiresome to create print commands that contain lots of outputs. Lets use our last function as an example. This is a confusing line to read:\n",
        "\n"
      ]
    },
    {
      "cell_type": "code",
      "execution_count": null,
      "metadata": {
        "colab": {
          "base_uri": "https://localhost:8080/"
        },
        "id": "Jp8oCtt82spI",
        "outputId": "3be47bcf-3e54-4a8d-bf14-06b8092a458a"
      },
      "outputs": [
        {
          "name": "stdout",
          "output_type": "stream",
          "text": [
            "Tank of size 2.2 x 2.2 x 0.8 produced capacity 140 at fish density 213.07\n"
          ]
        }
      ],
      "source": [
        "print(\"Tank of size\", str(tank_length) + \" x \" + str(tank_width) + \" x \" + str(tank_height), \"produced capacity\", int(capacity), \"at fish density\",  round(density, 2))"
      ]
    },
    {
      "cell_type": "markdown",
      "metadata": {
        "id": "-3v84vv23eIg"
      },
      "source": [
        "Using the ```.format()``` method we can make that cleaner by putting the variables at the end:"
      ]
    },
    {
      "cell_type": "code",
      "execution_count": null,
      "metadata": {
        "colab": {
          "base_uri": "https://localhost:8080/"
        },
        "id": "AW0uDgCU3iQY",
        "outputId": "28c666a2-d52f-4632-f56c-f830c86773a8"
      },
      "outputs": [
        {
          "name": "stdout",
          "output_type": "stream",
          "text": [
            "Tank of size 2.2 x 0.8 x 0.5 produced capacity 140 at fish density 213.07\n"
          ]
        }
      ],
      "source": [
        "print(\"Tank of size {} x {} x {} produced capacity {} at fish density {}\".format(tank_length, tank_width, tank_height, int(capacity), round(density,2)))"
      ]
    },
    {
      "cell_type": "markdown",
      "metadata": {
        "id": "BbmWK1nL4Oq7"
      },
      "source": [
        "This depends on all the variables being in the correct order, but you can also tag them with variable names and then call them in any order:"
      ]
    },
    {
      "cell_type": "code",
      "execution_count": null,
      "metadata": {
        "colab": {
          "base_uri": "https://localhost:8080/"
        },
        "id": "aV6tf9kI4Y_4",
        "outputId": "25301578-d663-45f9-8f3b-70a9e3bafe36"
      },
      "outputs": [
        {
          "name": "stdout",
          "output_type": "stream",
          "text": [
            "Capacity is 140 at fish density 213.07 | Note: Tank size 2.2 x 0.8 x 0.5 \n",
            "DONT FORGET: Height is 0.5\n",
            "\n"
          ]
        }
      ],
      "source": [
        "print(\"Capacity is {cap} at fish density {den} | Note: Tank size {l} x {w} x {h} \\nDONT FORGET: Height is {h}\\n\".format(l=tank_length, w=tank_width, h=tank_height, cap=int(capacity), den=round(density,2)))"
      ]
    },
    {
      "cell_type": "markdown",
      "metadata": {
        "id": "DE_FfyHm43nJ"
      },
      "source": [
        "A cool feature since python 3.6 is that when you put the letter f at the beginning of a string (e.g., f\"...\"), it indicates an f-string. F-strings provide an easy way to embed expressions and variables that you've already defined earlier in your code. But be aware that it's only since python 3.6 so may not be backwards compatable.\n",
        "\n",
        "See how with the ```f``` it means we don't have to close and open quotes and commas when printing ```(\" \",)``` and looks cleaner.\n",
        "\n",
        "None of this is essential python, but makes your code easier to read and less chance of errors!"
      ]
    },
    {
      "cell_type": "code",
      "execution_count": null,
      "metadata": {
        "colab": {
          "base_uri": "https://localhost:8080/"
        },
        "id": "m7IhzXUC5J5J",
        "outputId": "55b41286-f0ef-4d87-9244-e95a4919d262"
      },
      "outputs": [
        {
          "name": "stdout",
          "output_type": "stream",
          "text": [
            "Tank of size {tank_length} x {tank_width} x {tank_height} produced capacity {capacity} at fish density {density}\n",
            "Tank of size 2.2 x 0.8 x 0.5 produced capacity 141.0 at fish density 213.07\n"
          ]
        }
      ],
      "source": [
        "print(\"Tank of size {tank_length} x {tank_width} x {tank_height} produced capacity {capacity} at fish density {density}\")\n",
        "print(f\"Tank of size {tank_length} x {tank_width} x {tank_height} produced capacity {round(capacity,0)} at fish density {round(density,2)}\")"
      ]
    },
    {
      "cell_type": "markdown",
      "metadata": {
        "id": "GbV01wOpkZQo"
      },
      "source": [
        "## Exercise - Function writing"
      ]
    },
    {
      "cell_type": "markdown",
      "metadata": {
        "id": "aCV3c0r5k0AC"
      },
      "source": [
        "### 1. Sample count function\n",
        "We have a number of river water sites that we want to investigate, but the microscopy service will only take the job if we have at least 55 samples total!\n",
        "\n",
        "We have three locations where we have colected samples from, and the number of replicates at each:\n",
        "```\n",
        "River Wye | 20 sites | 5 replicates\n",
        "River Taf | 5 sites | 6 replicates\n",
        "River Aber | 11 sites | 5 replicates\n",
        "River Iago | 2 sites | 18 replicates\n",
        "```\n",
        "\n",
        "\n",
        "1. Write a function named  ```big_enough``` that prints True or False for each of the three sites calling the function using the values\n",
        "2. Put the sets of data into a list and with a loop output the three results\n",
        "3. Write a better output print to make more sense!\n",
        "3. Extension: Put the input data into a dictionary so you can test with just the river name i.e. ```print(big_enough('Wye'))```\n"
      ]
    },
    {
      "cell_type": "code",
      "execution_count": null,
      "metadata": {
        "colab": {
          "base_uri": "https://localhost:8080/"
        },
        "id": "Ql2LntwwkS2Z",
        "outputId": "d41f4a80-1150-4355-d2e7-983f86f42472"
      },
      "outputs": [
        {
          "name": "stdout",
          "output_type": "stream",
          "text": [
            "True\n",
            "False\n",
            "True\n"
          ]
        }
      ],
      "source": [
        "# Write your function here:\n",
        "\n",
        "# Testing your function - should return True or False\n",
        "print(big_enough(20, 5))"
      ]
    },
    {
      "cell_type": "markdown",
      "metadata": {
        "id": "CJmYpVPWuVKA"
      },
      "source": [
        "## 2. DNA complement function\n",
        " Create a function named  that takes a DNA sequence as input and returns its complement strand (Bases swapped for their complement, but in the same order)\n",
        "\n",
        "    ```A <--> T```\n",
        "    ```C <--> G```\n",
        "\n",
        " Extension: There is no built-in named method for reversing a string in python (something that libraries and modules can solve) but there is a simple code that can achive it. Test this line, and then see if you can use it to create a full reverse-complement output ```reverse_string = \"My string\"[::-1]```"
      ]
    },
    {
      "cell_type": "code",
      "execution_count": null,
      "metadata": {
        "id": "OrIzA8KjulzY",
        "outputId": "da88afa0-aa93-4d6e-e29f-46168c402749"
      },
      "outputs": [
        {
          "name": "stdout",
          "output_type": "stream",
          "text": [
            "Forward sequence:\t ATGCGCATGCTAGCTAG\n",
            "Complement sequence:\t TACGCGTACGATCGATC\n"
          ]
        }
      ],
      "source": [
        "# Your function\n",
        "def complement():\n",
        "\n",
        "# Testing your function\n",
        "for_seq = \"ATGCGCATGCTAGCTAG\"\n"
      ]
    }
  ],
  "metadata": {
    "colab": {
      "provenance": []
    },
    "kernelspec": {
      "display_name": "Python 3",
      "name": "python3"
    },
    "language_info": {
      "codemirror_mode": {
        "name": "ipython",
        "version": 3
      },
      "file_extension": ".py",
      "mimetype": "text/x-python",
      "name": "python",
      "nbconvert_exporter": "python",
      "pygments_lexer": "ipython3",
      "version": "3.11.5"
    }
  },
  "nbformat": 4,
  "nbformat_minor": 0
}