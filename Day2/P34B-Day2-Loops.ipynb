{
  "cells": [
    {
      "cell_type": "markdown",
      "metadata": {
        "id": "6bLlQkRwJcqY"
      },
      "source": [
        "# Practical Python Programming for Biologists\n",
        "Author: Dr. Daniel Pass | www.CompassBioinformatics.com\n",
        "\n",
        "---"
      ]
    },
    {
      "cell_type": "markdown",
      "metadata": {
        "id": "15PxGLLfOoz_"
      },
      "source": [
        "# A quick bit of maths\n",
        "\n",
        "We will always end up doing some calculations in our coding. The classic opperators apply and work as you would expect (```  +  -  /  *  ```), but to note some more specific cases:\n",
        "- ```**``` - Exponent (To the power of).\n",
        "\n",
        " e.g. ```7 ** 2 = 49```\n",
        "- ```%``` - Modulo. Return just the remainder of a division.\n",
        "\n",
        " e.g. ```17 % 5 = 2```\n",
        "\n",
        "Lets see whether our gene has a perfect amino acid translation. 3 bases per codon so our modulo would return zero if perfect:"
      ]
    },
    {
      "cell_type": "code",
      "execution_count": 4,
      "metadata": {
        "colab": {
          "base_uri": "https://localhost:8080/"
        },
        "id": "QCyJJdcFQa0S",
        "outputId": "6b1e8664-b1e8-4c51-bacf-609c88fd1afd"
      },
      "outputs": [
        {
          "output_type": "stream",
          "name": "stdout",
          "text": [
            "35\n",
            "11.666666666666666\n",
            "There are 2 bases not in a codon\n"
          ]
        }
      ],
      "source": [
        "my_ORF = \"ATGGTACGACTCACATCACATGCATCGTCAACTTC\"\n",
        "print(len(my_ORF))\n",
        "\n",
        "print(\"There are\", len(my_ORF) % 3, \"bases not in a codon\")\n",
        "#3 goes 11 times into 35 (=33) and remainder is 2"
      ]
    },
    {
      "cell_type": "markdown",
      "metadata": {
        "id": "VKlCCllhRWL3"
      },
      "source": [
        "We can also use the opperators (```+ - * /```) together with assigning a variable (```=```) as a shortcut to change it's current value. We do this by combining a maths operator with the equals:\n",
        "  ```  +=     -=     *=    /=  ```\n",
        "\n",
        "For example these perform the same function, but one is quicker and easier:"
      ]
    },
    {
      "cell_type": "code",
      "execution_count": 2,
      "metadata": {
        "colab": {
          "base_uri": "https://localhost:8080/"
        },
        "id": "Xv4uBAj-Rv8Y",
        "outputId": "55b4a2f4-588c-4e45-8098-3dd73d0a7ffc"
      },
      "outputs": [
        {
          "output_type": "stream",
          "name": "stdout",
          "text": [
            "15.0\n",
            "1.5\n"
          ]
        }
      ],
      "source": [
        "# The slow way\n",
        "total = 27\n",
        "total_plus3 = total + 3\n",
        "total_plus_3_div_2 = total_plus3 / 2\n",
        "total = total_plus_3_div_2\n",
        "\n",
        "print(total)\n",
        "\n",
        "# The fast way!\n",
        "total = 27\n",
        "total += 3 #(shorter way of writing total=total+3)\n",
        "#note! switching it to =+3 would mean the value +3 would be assigned to \"total\"\n",
        "\n",
        "total /= 2       # Note how any division returns a float\n",
        "\n",
        "print(total)"
      ]
    },
    {
      "cell_type": "markdown",
      "metadata": {
        "id": "VW2SJ5nQSWcf"
      },
      "source": [
        "Acting alone they don't do too much, but in the context of loops they are super powerful!"
      ]
    },
    {
      "cell_type": "markdown",
      "metadata": {
        "id": "zxlW4-sbK0zJ"
      },
      "source": [
        "# Looping\n",
        "\n",
        "Really, we know loops are the powerhouse of programming. We have looked at lists, ranges, and dictionaries which have lots of data in them but untill we can run through the full dataset we aren't using them fully.\n",
        "\n",
        "Running through a collection (term used for any kind of itterable set of data) mostly follows a simple pattern:\n",
        "\n",
        "```\n",
        "for item in list:\n",
        "  do_something(item)\n",
        "```\n",
        "\n",
        "Some other coding languanges you may have seen will require an extra character to define your temporary variable but that's not needed in python. Nice and clean!\n",
        "\n",
        "Python also doesn't use any of those messy parentheses ```[{()}]``` or semi-colons ```;```. You just have to be sure to use tabs/spaces to indent your code blocks. If your code has mixed up indents then it will error.\n",
        "\n",
        "---"
      ]
    },
    {
      "cell_type": "markdown",
      "metadata": {
        "id": "sXwxi86qTtEP"
      },
      "source": [
        "Lets use a for loop to perform a calculation on a list of DNA strings. As you can see once you define the temporary variable after the ```for``` then it can be used as you would any variable.\n",
        "\n",
        "**Exercise**: try printing ```seq``` outside of the loop and check what you get back.\n",
        "\n"
      ]
    },
    {
      "cell_type": "code",
      "execution_count": 3,
      "metadata": {
        "colab": {
          "base_uri": "https://localhost:8080/"
        },
        "id": "5wo_F7PDwtdP",
        "outputId": "8ca4a379-10e4-4755-99f6-c21b4359993d"
      },
      "outputs": [
        {
          "output_type": "stream",
          "name": "stdout",
          "text": [
            "Sequence: ATGCTGACTATATGAATCGTTTGA is 24 bases long with GC%: 33.33\n",
            "ATGCTGACTATATGAATCGTTTGA\n",
            "Sequence: GCTAGCTAGCTAGCTAGCTG is 20 bases long with GC%: 55.0\n",
            "GCTAGCTAGCTAGCTAGCTG\n",
            "Sequence: CTGACGATCGTACGACTGATCG is 22 bases long with GC%: 54.55\n",
            "CTGACGATCGTACGACTGATCG\n",
            "Sequence: ATCGCGCGCGCGCCCTATACG is 21 bases long with GC%: 71.43\n",
            "ATCGCGCGCGCGCCCTATACG\n"
          ]
        }
      ],
      "source": [
        "# Output the length & GC% for a list of DNA sequences\n",
        "sequences = [\"ATGCTGACTATATGAATCGTTTGA\", \"GCTAGCTAGCTAGCTAGCTG\", \"CTGACGATCGTACGACTGATCG\",\"ATCGCGCGCGCGCCCTATACG\"]\n",
        "\n",
        "for seq in sequences: #“Take each item from the list sequences, and call it seq while we’re inside the loop.”\n",
        "    gc_count = seq.count(\"G\") + seq.count(\"C\") #counts how many Gs and C's are in each string and adds them together\n",
        "    length = len(seq) #returns how many characters (bases) in each seq\n",
        "    PCrounded = round(gc_count / length *100, 2) #converts the GC count into a percentage rounded with 2 decimals\n",
        "    print(\"Sequence:\", seq, \"is\", length, \"bases long with GC%:\", PCrounded)\n",
        "\n",
        "    print(seq)"
      ]
    },
    {
      "cell_type": "markdown",
      "metadata": {
        "id": "Pt_J7-01yf3-"
      },
      "source": [
        "Inside a loop, any variable name that is created is temporary. We can also add to global variables which exist outside of the temporary loop.\n",
        "\n",
        "Lets modify our code so that each time we run through the loop we will add the calculated value to the global variable. Once we've finished with the loop then we can do our calculation on the totals."
      ]
    },
    {
      "cell_type": "code",
      "execution_count": 4,
      "metadata": {
        "id": "HJ65bM5RWVHk",
        "colab": {
          "base_uri": "https://localhost:8080/"
        },
        "outputId": "fbe8015f-3c38-470b-c9ae-787a853c3cfe"
      },
      "outputs": [
        {
          "output_type": "stream",
          "name": "stdout",
          "text": [
            "This sequence's GC%: 33.33\n",
            "Adding: 8 \t| New total GC count is: 8\n",
            "Adding: 24 \t| New total len is: 24\n",
            "\n",
            "This sequence's GC%: 55.0\n",
            "Adding: 11 \t| New total GC count is: 19\n",
            "Adding: 20 \t| New total len is: 44\n",
            "\n",
            "This sequence's GC%: 54.55\n",
            "Adding: 12 \t| New total GC count is: 31\n",
            "Adding: 22 \t| New total len is: 66\n",
            "\n",
            "This sequence's GC%: 71.43\n",
            "Adding: 15 \t| New total GC count is: 46\n",
            "Adding: 21 \t| New total len is: 87\n",
            "\n",
            "~~~~~~~~~\n",
            "Outside the loop now\n",
            "Total average GC%: 52.87\n"
          ]
        }
      ],
      "source": [
        "# Create the empty variables first\n",
        "total_GC_count = 0\n",
        "total_length = 0\n",
        "\n",
        "for seq in sequences:\n",
        "    gc_count = seq.count(\"G\") + seq.count(\"C\")\n",
        "    length = len(seq)\n",
        "    PCrounded = round(gc_count / length *100, 2)\n",
        "\n",
        "    # We are adding the temporary variable to the global variable\n",
        "    total_GC_count += gc_count\n",
        "    total_length += length\n",
        "\n",
        "    print(\"This sequence's GC%:\", PCrounded)\n",
        "    print(\"Adding:\", gc_count, \"\\t| New total GC count is:\", total_GC_count)\n",
        "    print(\"Adding:\", length, \"\\t| New total len is:\", total_length)\n",
        "    print()\n",
        "\n",
        "print(\"~~~~~~~~~\\nOutside the loop now\")\n",
        "print(\"Total average GC%:\", round(total_GC_count / total_length * 100, 2))"
      ]
    },
    {
      "cell_type": "markdown",
      "metadata": {
        "id": "3EuF3KpRteXR"
      },
      "source": [
        "One notable method we can use is looping through a string. It doesn't come in very useful in normal programming, but in bioinformatics we spend a lot of time with strings and sequences!\n",
        "\n",
        "To work on each individual character in a string:"
      ]
    },
    {
      "cell_type": "code",
      "execution_count": 5,
      "metadata": {
        "colab": {
          "base_uri": "https://localhost:8080/"
        },
        "id": "ZEzvqQ70ttNY",
        "outputId": "df29bfa1-94bf-4712-fb09-d735678dda59"
      },
      "outputs": [
        {
          "output_type": "stream",
          "name": "stdout",
          "text": [
            "Base number 1 is a A\n",
            "Base number 2 is a C\n",
            "Base number 3 is a C\n",
            "Base number 4 is a C\n",
            "Base number 5 is a A\n",
            "Base number 6 is a C\n",
            "Base number 7 is a A\n",
            "Base number 8 is a C\n",
            "Base number 9 is a C\n",
            "Base number 10 is a G\n",
            "Base number 11 is a T\n",
            "Base number 12 is a G\n",
            "Base number 13 is a T\n",
            "Base number 14 is a G\n",
            "We had 14 bases!\n"
          ]
        }
      ],
      "source": [
        "my_gene = \"ACCCACACCGTGTG\"\n",
        "\n",
        "count = 0\n",
        "\n",
        "for base in my_gene:\n",
        "  count += 1 #adding 1 to each iteration of loop running until end of string?\n",
        "  print(\"Base number\", count, \"is a\", base)\n",
        "\n",
        "print(\"We had\", count, \"bases!\")"
      ]
    },
    {
      "cell_type": "markdown",
      "metadata": {
        "id": "AEv6Uu30eTYI"
      },
      "source": [
        "## Exercises - Looping"
      ]
    },
    {
      "cell_type": "markdown",
      "metadata": {
        "id": "qd9ffNcP6JfU"
      },
      "source": [
        "We've been out butterfly hunting! For Science!\n",
        "\n",
        "1. Create a loop that outputs each value in one butterfly list (pick your favourite!) - print each value out\n",
        "2. Create a ```total_count = 0``` before the loop, and add to it inside the loop\n",
        "3. After the loop, output the sum and average of the butterfly list. Test it with different lists\n",
        "\n",
        "Doing that for each species individually would take a long time, so we can do a 2D list and make it much quicker!\n",
        "\n",
        "4. Create a loop for ```all_butterflies_list``` and put your code from the first parts inside of it, to run for all lists"
      ]
    },
    {
      "cell_type": "code",
      "execution_count": 37,
      "metadata": {
        "id": "yTB6on0BKRCP",
        "outputId": "899e3e39-58a7-482f-aa4b-f7bcc49ec50c",
        "colab": {
          "base_uri": "https://localhost:8080/"
        }
      },
      "outputs": [
        {
          "output_type": "stream",
          "name": "stdout",
          "text": [
            "74 \n",
            " ~~~~~~~~~~~~\n",
            "78 \n",
            " ~~~~~~~~~~~~\n",
            "55 \n",
            " ~~~~~~~~~~~~\n",
            "70 \n",
            " ~~~~~~~~~~~~\n",
            "86 \n",
            " ~~~~~~~~~~~~\n",
            "74\n",
            "78\n",
            "55\n",
            "70\n",
            "86\n",
            "363\n",
            "Total: 363\n",
            "Average: 72.6\n",
            "~~~~~~~~~~~~\n",
            "Total count is 1351\n",
            "per butterfly species count is 277\n",
            "per butterfly species count is 160\n",
            "per butterfly species count is 210\n",
            "per butterfly species count is 341\n",
            "per butterfly species count is 363\n",
            "~~~~~~~~~~~~\n",
            "Monarch total is 277\n",
            "Swallowtail total is 160\n",
            "PaintedLady total is 210\n",
            "Admiral total is 341\n",
            "Peacock total is 363\n"
          ]
        }
      ],
      "source": [
        "# Species and counts per day (Mon/Tues/Weds/Thurs/Fri)\n",
        "Monarch_count = [78, 70, 13, 17, 99]\n",
        "Swallowtail_count = [6, 16, 44, 50, 44]\n",
        "PaintedLady_count = [69, 27, 30, 74, 10]\n",
        "Admiral_count = [66, 87, 74, 49, 65]\n",
        "Peacock_count = [74, 78, 55, 70, 86]\n",
        "\n",
        "all_butterflies_list = [Monarch_count, Swallowtail_count, PaintedLady_count, Admiral_count, Peacock_count]\n",
        "\n",
        "# PICKING PEACOCK\n",
        "\n",
        "# Loop through each value in the list\n",
        "for bcount in Peacock_count:\n",
        "    print(bcount,'\\n', \"~~~~~~~~~~~~\") # print each daily count\n",
        "\n",
        "# Start total at 0 (make global variable for outside loop)\n",
        "total_bcount = 0  #saying zero we just define this (empty) variable as a number that's all\n",
        "\n",
        "# Loop through each value in the list\n",
        "for bcount in Peacock_count:\n",
        "    print(bcount)              # print each daily count\n",
        "    total_bcount += bcount      # add to total and bz that creating a global var\n",
        "\n",
        "print(total_bcount) #adding all together (per species/list)\n",
        "\n",
        "\n",
        "# After loop\n",
        "average = total_bcount / len(Peacock_count) #dividing by length so calc average\n",
        "print(\"Total:\", total_bcount)\n",
        "print(\"Average:\", average)\n",
        "#this prints each day’s count, then gives total and average\n",
        "print(\"~~~~~~~~~~~~\")\n",
        "\n",
        "# ~~~~~~~~~~~~~~~~~~~~~~~\n",
        "# ~~~~~~~~~~~~~~~~~~~~~~~\n",
        "\n",
        "# Doing that for each species individually would take a long time, so we can do a 2D list and make it much quicker!\n",
        "# Create a loop for all_butterflies_list and put your code from the first parts inside of it, to run for all lists\n",
        "\n",
        "\n",
        "total_bcount = 0\n",
        "\n",
        "for b_list in all_butterflies_list:\n",
        "\n",
        "  #print(b_list) #to see what it looks like, all lists printed\n",
        "  #put loop code from prev (line 20ish) inside this loop\n",
        "\n",
        "  for b_item in b_list:#so: nested loop inside a loop, so all elements (bcount) in each list (blist)\n",
        "\n",
        "    total_bcount += b_item #to add ALL values inside the lists together\n",
        "\n",
        "print(\"Total count is\", total_bcount)\n",
        "\n",
        "# to get the total count per list do:\n",
        "\n",
        "for b_list in all_butterflies_list: #so for each butterfly LIST\n",
        "  b_count=0 #make a variable and add:\n",
        "  for b_item in b_list:\n",
        "    b_count += b_item\n",
        "\n",
        "  print(\"per butterfly species count is\", b_count) #not indeted under the last loop but first loop so we get it per list (and not per value!)\n",
        "\n",
        "\n",
        "#note: too many loops inside loops? should prob do things in dictionaries\n",
        "\n",
        "print(\"~~~~~~~~~~~~\")\n",
        "\n",
        "# faster way would be using dictionary:\n",
        "\n",
        "butterfly_dict = {\"Monarch\":Monarch_count,\n",
        "                  \"Swallowtail\":Swallowtail_count,\n",
        "                  \"PaintedLady\":PaintedLady_count,\n",
        "                  \"Admiral\":Admiral_count,\n",
        "                  \"Peacock\":Peacock_count}\n",
        "\n",
        "for butterfly, b_list in butterfly_dict.items(): #to get both variables from dic = keys:values\n",
        "  #print(butterfly, b_list) #getting name and counts\n",
        "  b_count=0 #make a variable each iteration and add:\n",
        "  for b_item in b_list:\n",
        "    b_count += b_item\n",
        "  print(butterfly, \"total is\", b_count)\n",
        "\n",
        "\n",
        "\n"
      ]
    },
    {
      "cell_type": "markdown",
      "metadata": {
        "id": "dzrlzQsh2yQ2"
      },
      "source": [
        "One obvious issue here is that we don't have the name of each list so the output is a bit confusing. This is where a dictionary would be more useful than a loop.\n",
        "\n",
        "**Extension**: Put the list data into a dictionary and create a more readable output by printing the key along with the sum/average for each butterfly. (remember dict.items(), and the next section on looping with tuples will help)"
      ]
    },
    {
      "cell_type": "markdown",
      "metadata": {
        "id": "YbB-ki_iWVHl"
      },
      "source": [
        "### Looping & tuples\n",
        "\n",
        "We saw the format for assigning tuple elements to variable names yesterday, but it wasn't too useful then. Lets see how much better it is in a loop\n",
        "\n",
        "Here we have a list of tuples with their ID, sequence, and abundance value, and can assign them variable names in the first line of the for loop:"
      ]
    },
    {
      "cell_type": "code",
      "execution_count": 38,
      "metadata": {
        "id": "Vxh9Wl-kWVHl",
        "outputId": "2879b29d-2444-4297-fcd5-f87393f07228",
        "colab": {
          "base_uri": "https://localhost:8080/"
        }
      },
      "outputs": [
        {
          "output_type": "stream",
          "name": "stdout",
          "text": [
            "ID TFBS1 has abundance 80\n",
            "ID TFBS2 has abundance 120\n",
            "ID TFBS3 has abundance 90\n",
            "ID TFBS4 has abundance 40\n",
            "ID TFBS5 has abundance 110\n"
          ]
        }
      ],
      "source": [
        "binding_sites = [\n",
        "    (\"TFBS1\", \"CGTATTATCG\", 80),\n",
        "    (\"TFBS2\", \"ACGTATCGTATTA\", 120),\n",
        "    (\"TFBS3\", \"CTAGGTTA\", 90),\n",
        "    (\"TFBS4\", \"TATTACGTA\", 40),\n",
        "    (\"TFBS5\", \"ATGCTTACG\", 110)\n",
        "]\n",
        "\n",
        "for ID, seq, abun in binding_sites:\n",
        "    print(\"ID\", ID, \"has abundance\", abun)"
      ]
    },
    {
      "cell_type": "markdown",
      "metadata": {
        "id": "mnW4OfmKTq73"
      },
      "source": [
        "# While\n",
        "\n",
        "Using the ```while``` function we can create loops in a slightly different way. Basically we say \"if this is true, keep repeating\". For example:"
      ]
    },
    {
      "cell_type": "code",
      "execution_count": 39,
      "metadata": {
        "id": "Qw5BEuqQJODI",
        "colab": {
          "base_uri": "https://localhost:8080/"
        },
        "outputId": "c838125d-0b48-42c4-ab7b-368aa82c90aa"
      },
      "outputs": [
        {
          "output_type": "stream",
          "name": "stdout",
          "text": [
            "0\n",
            "1\n",
            "2\n",
            "3\n",
            "4\n"
          ]
        }
      ],
      "source": [
        "count = 0\n",
        "\n",
        "while count < 5:\n",
        "  print(count)       ## Don't forget we start at zero!\n",
        "  count +=1"
      ]
    },
    {
      "cell_type": "markdown",
      "metadata": {
        "id": "kWfbgIuo03qH"
      },
      "source": [
        "An important thing to watch out for with while loops is accidentally creating infinity! Run this and see what happens. What went wrong?"
      ]
    },
    {
      "cell_type": "code",
      "execution_count": null,
      "metadata": {
        "id": "v6k-dSMB1Fw2"
      },
      "outputs": [],
      "source": [
        "count = 0\n",
        "\n",
        "while count >= 0:\n",
        "  print(count)\n",
        "  count +=1"
      ]
    },
    {
      "cell_type": "markdown",
      "metadata": {
        "id": "bkC_VRAA2e7f"
      },
      "source": [
        "We can also use ```while``` to run through lists. It gives us an advantage in running until a condition is met, or getting and modifying the index value.\n",
        "\n",
        "As we run a while loop for the length of our list, lets use it to access elements of other lists. Note: Here we are assuming our lists are in the same order and the same length! Not the best assumption to make with real data!"
      ]
    },
    {
      "cell_type": "code",
      "execution_count": null,
      "metadata": {
        "id": "fih9aYL83WA3"
      },
      "outputs": [],
      "source": [
        "expression = [2.3, 4.1, 5.7, 3.9, 6.5]\n",
        "genes = ['BRCA1', 'TP53', 'EGFR', 'KRAS', 'MET1']\n",
        "species = ['Arabidopsis', 'Bos taurus', 'C. elegans', 'Drosophila', 'E. coli']\n",
        "threshold = 5.0\n",
        "index = 0\n",
        "\n",
        "while index < len(expression):\n",
        "  print(genes[index], expression[index], species[index])\n",
        "\n",
        "  index += 1"
      ]
    },
    {
      "cell_type": "markdown",
      "metadata": {
        "id": "ol-FPItjG42y"
      },
      "source": [
        "---\n",
        "## Advanced looping\n",
        "\n",
        "This next section is going to use if statments in it. Although we're only using basic if's, if you've not done the IF section yet, do that first before continuing to make sure you understand how it works fully."
      ]
    },
    {
      "cell_type": "markdown",
      "metadata": {
        "id": "dMQeiv3YVTQP"
      },
      "source": [
        "### Loop control\n",
        "If we start running through a loop, it will continue to the end. If our objective is \"Do X for every item in list\" then that is good however, sometimes we don't want that to happen and once we have reached the data we want then we can stop, or skip that turn\n",
        "\n",
        "- ```continue``` - Move on to the next element in the loop immediately - don't do any more code on this itteration\n",
        "- ```break``` - Stop the loop right now, do no more processing"
      ]
    },
    {
      "cell_type": "code",
      "execution_count": 41,
      "metadata": {
        "colab": {
          "base_uri": "https://localhost:8080/"
        },
        "id": "3y7vx0vUEQ5c",
        "outputId": "cfab4bed-bb23-4b41-89fb-fe10da5f094d"
      },
      "outputs": [
        {
          "output_type": "stream",
          "name": "stdout",
          "text": [
            "Skipping HOX genes:\n",
            "RB1\n",
            "PIK3CA\n",
            "BRAF\n",
            "JAK2\n",
            "NOTCH1\n",
            "FLT3\n",
            "KRAS\n",
            "EGFR\n",
            "PTEN\n",
            "BRAF\n",
            "PIK3CA\n",
            "JAK2\n",
            "\n",
            "Stopping if I find HOX5:\n",
            "RB1\n",
            "PIK3CA\n",
            "BRAF\n"
          ]
        }
      ],
      "source": [
        "gene_list = [\"RB1\", \"PIK3CA\", \"BRAF\", \"HOX2\", \"JAK2\", \"HOX5\", \"NOTCH1\", \"FLT3\", \"KRAS\", \"EGFR\", \"PTEN\", \"HOX1\", \"BRAF\", \"PIK3CA\", \"HOX9\", \"JAK2\"]\n",
        "\n",
        "print(\"Skipping HOX genes:\")\n",
        "for gene in gene_list:\n",
        "    if \"HOX\" in gene:\n",
        "        # Don't do anything, just move on to next element\n",
        "        continue\n",
        "    print(gene)\n",
        "\n",
        "# Note here it stops before printing anything else on that loop\n",
        "print(\"\\nStopping if I find HOX5:\")\n",
        "for gene in gene_list:\n",
        "    if \"HOX5\" in gene: #can specify a specific one or just \"HOX\" then it'll stop at first one already\n",
        "        # Stop the loop!\n",
        "        break\n",
        "    print(gene)\n"
      ]
    },
    {
      "cell_type": "markdown",
      "metadata": {
        "id": "1xQBECBVJ81M"
      },
      "source": [
        "## Exercise - Loop control\n",
        "\n",
        "When we did our quality filtering earlier, the data was designed to not raise above 20 after going below. But that's not realistic! Here is some more variable data.\n",
        "\n",
        "- Use your code from earlier (The While section) and include a ```break``` condition to stop looping when it first goes below 20"
      ]
    },
    {
      "cell_type": "code",
      "execution_count": 42,
      "metadata": {
        "colab": {
          "base_uri": "https://localhost:8080/",
          "height": 430
        },
        "id": "BQlcbEDQJ8Y0",
        "outputId": "a83c1c76-f97c-4687-acc6-19c461183231"
      },
      "outputs": [
        {
          "output_type": "display_data",
          "data": {
            "text/plain": [
              "<Figure size 640x480 with 1 Axes>"
            ],
            "image/png": "[encoded data removed]"
          },
          "metadata": {}
        }
      ],
      "source": [
        "sequence = \"TGCATGACTGCATCGATCGTACGATCGATCGATCGAT\"\n",
        "quality = [31, 29, 27, 35, 31, 29, 34, 39, 40, 30, 35, 38, 30, 28, 29, 30, 33, 26, 24, 29, 19, 11, 17, 16, 18, 17, 23, 21, 26, 29, 15, 3, 7, 15, 4, 10, 17]\n",
        "\n",
        "import matplotlib.pyplot as plt\n",
        "\n",
        "plt.plot(range(len(quality)), quality)\n",
        "plt.axhline(20, color = \"red\")\n",
        "plt.show()"
      ]
    },
    {
      "cell_type": "code",
      "execution_count": 44,
      "metadata": {
        "colab": {
          "base_uri": "https://localhost:8080/"
        },
        "id": "Kyhv4vGvKZ6E",
        "outputId": "24e857b2-4c25-495f-dd33-0ead982c24bd"
      },
      "outputs": [
        {
          "output_type": "stream",
          "name": "stdout",
          "text": [
            "Full: TGCATGACTGCATCGATCGTACGATCGATCGATCGAT\n",
            "Trim: TGCATGACTGCATCGATCGT\n"
          ]
        }
      ],
      "source": [
        "# Your code\n",
        "# include a break condition to stop looping when it first goes below 20\n",
        "\n",
        "sequence = \"TGCATGACTGCATCGATCGTACGATCGATCGATCGAT\"\n",
        "quality = [31, 29, 27, 35, 31, 29, 34, 39, 40, 30, 35, 38, 30, 28, 29, 30, 33, 26, 24, 29, 19, 11, 17, 16, 18, 17, 13, 11, 16, 19, 15, 3, 7, 15, 4, 10, 17]\n",
        "\n",
        "# Break\n",
        "index = 0 #keeps track of our position (like i = 0)\n",
        "clean_sequence =\"\" #create an empty list to add bases later (will store all “good” bases (quality ≥ 20))\n",
        "\n",
        "while index < len(quality): #Loop runs while we haven’t reached the end of the sequence & each round looks at one position (base + quality score).\n",
        "    if quality[index] < 20:\n",
        "        break\n",
        "    else:\n",
        "        clean_sequence += sequence[index]\n",
        "\n",
        "    index += 1\n",
        "\n",
        "print(\"Full:\", sequence)\n",
        "print(\"Trim:\", clean_sequence)\n",
        "\n"
      ]
    },
    {
      "cell_type": "markdown",
      "metadata": {
        "id": "vfkv7KO9i7jp"
      },
      "source": [
        "# Exercise - Loops, lists, and ifs\n",
        "**Objective**: Take our list of genes and output the most up/down regulated genes with key information\n",
        "\n",
        "This exercise is the most dificult we've done and will need you to use lists, loops, ifs, and dictionaries! It is not supposed to be simple and probably will take 10-20 minutes.\n",
        "\n",
        "Suggested steps:\n",
        "\n",
        "1.   Make empty lists for your up/down gene lists\n",
        "2.   Make a loop to run through the list of gene expression values and use if/else to build your lists\n",
        "3.   Itterate through your new lists and use the dictionary to report if they have been qPCR tested\n",
        "4.   Output in a clean text format such as:\n",
        "\n",
        "\"Here we tested X genes resulting in Y upregulated and Z downregulated. qPCR confirmed A and B respectively. Here is the full list:\"\n",
        "\n",
        "\n",
        "**Extension:** Filter the data to greater than +/- 2 expression. What % of genes are removed by this filter?\n"
      ]
    },
    {
      "cell_type": "code",
      "execution_count": null,
      "metadata": {
        "id": "rLd2P31djxtx"
      },
      "outputs": [],
      "source": [
        "# Data for your analysis\n",
        "gene_list = [\"TP53\", \"BRCA1\", \"EGFR\", \"KRAS\", \"MYC\", \"PTEN\", \"CDKN2A\", \"AKT1\", \"ERBB2\", \"RB1\", \"PIK3CA\", \"BRAF\", \"MET\", \"JAK2\", \"MAPK1\", \"NOTCH1\", \"FLT3\", \"KRAS\", \"EGFR\", \"PTEN\", \"TP53\", \"BRAF\", \"PIK3CA\", \"MYC\", \"ERBB2\", \"RB1\", \"AKT1\", \"CDKN2A\", \"MAPK1\", \"JAK2\"]\n",
        "gene_exp = [['TP53', -1.4245], ['BRCA1', 4.0941], ['EGFR', 1.8266], ['KRAS', -0.8996], ['MYC', -2.1188], ['PTEN', -1.8499], ['CDKN2A', 4.2798], ['AKT1', 0.4709], ['ERBB2', 2.144], ['RB1', 4.7541], ['PIK3CA', 2.6291], ['BRAF', 2.1514], ['MET', 0.2558], ['JAK2', 5.0332], ['MAPK1', 5.295], ['NOTCH1', 2.5695], ['FLT3', 5.3211], ['KRAS', 3.064], ['EGFR', 0.1768], ['PTEN', -0.4923], ['TP53', -4.7796], ['BRAF', -3.8257], ['PIK3CA', 0.3357], ['MYC', -0.0917], ['ERBB2', -3.2586], ['RB1', -0.7903], ['AKT1', 0.6729], ['CDKN2A', 5.8131], ['MAPK1', -4.9549], ['JAK2', -0.936]]\n",
        "qPCR_status = {'TP53': False, 'BRCA1': False, 'EGFR': True, 'KRAS': False, 'MYC': True, 'PTEN': True, 'CDKN2A': False, 'AKT1': True, 'ERBB2': False, 'RB1': False, 'PIK3CA': True, 'BRAF': False, 'MET': False, 'JAK2': True, 'MAPK1': False, 'NOTCH1': False, 'FLT3': True}\n"
      ]
    },
    {
      "cell_type": "code",
      "execution_count": null,
      "metadata": {
        "id": "fOLCM_TIjTha",
        "outputId": "b0e2c8f8-4fe8-4b4e-9894-a69a725dc4c7"
      },
      "outputs": [
        {
          "name": "stdout",
          "output_type": "stream",
          "text": [
            "Here we tested 30 genes resulting in 18 upregulated and 12 downregulated. qPCR confirmed 8 and 5 respectively.\n",
            "Here is the full list:\n",
            "\n",
            "qPCR confirmed upregulated genes\n",
            "EGFR\n",
            "AKT1\n",
            "PIK3CA\n",
            "JAK2\n",
            "FLT3\n",
            "EGFR\n",
            "PIK3CA\n",
            "AKT1\n",
            "\n",
            "qPCR confirmed downregulated genes\n",
            "MYC\n",
            "PTEN\n",
            "PTEN\n",
            "MYC\n",
            "JAK2\n"
          ]
        }
      ],
      "source": [
        "# Your code here\n"
      ]
    }
  ],
  "metadata": {
    "colab": {
      "provenance": []
    },
    "kernelspec": {
      "display_name": "Python 3",
      "name": "python3"
    },
    "language_info": {
      "codemirror_mode": {
        "name": "ipython",
        "version": 3
      },
      "file_extension": ".py",
      "mimetype": "text/x-python",
      "name": "python",
      "nbconvert_exporter": "python",
      "pygments_lexer": "ipython3",
      "version": "3.11.5"
    }
  },
  "nbformat": 4,
  "nbformat_minor": 0
}